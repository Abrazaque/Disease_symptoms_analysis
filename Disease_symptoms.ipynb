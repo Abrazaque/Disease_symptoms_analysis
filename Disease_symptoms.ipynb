{
 "cells": [
  {
   "cell_type": "code",
   "execution_count": 1,
   "id": "c6f78752-e5e9-4174-b718-641d1645cca8",
   "metadata": {},
   "outputs": [],
   "source": [
    "import seaborn as sns\n",
    "import matplotlib.pyplot as plt\n",
    "%matplotlib inline\n",
    "import pandas as pd\n",
    "from pivottablejs import pivot_ui as pv\n",
    "import numpy as np "
   ]
  },
  {
   "cell_type": "code",
   "execution_count": 2,
   "id": "0f86403a-30c0-4c03-b670-efd90d6e581e",
   "metadata": {},
   "outputs": [
    {
     "data": {
      "text/html": [
       "<div>\n",
       "<style scoped>\n",
       "    .dataframe tbody tr th:only-of-type {\n",
       "        vertical-align: middle;\n",
       "    }\n",
       "\n",
       "    .dataframe tbody tr th {\n",
       "        vertical-align: top;\n",
       "    }\n",
       "\n",
       "    .dataframe thead th {\n",
       "        text-align: right;\n",
       "    }\n",
       "</style>\n",
       "<table border=\"1\" class=\"dataframe\">\n",
       "  <thead>\n",
       "    <tr style=\"text-align: right;\">\n",
       "      <th></th>\n",
       "      <th>Disease</th>\n",
       "      <th>Fever</th>\n",
       "      <th>Cough</th>\n",
       "      <th>Fatigue</th>\n",
       "      <th>Difficulty Breathing</th>\n",
       "      <th>Age</th>\n",
       "      <th>Gender</th>\n",
       "      <th>Blood Pressure</th>\n",
       "      <th>Cholesterol Level</th>\n",
       "      <th>Outcome Variable</th>\n",
       "    </tr>\n",
       "  </thead>\n",
       "  <tbody>\n",
       "    <tr>\n",
       "      <th>0</th>\n",
       "      <td>Influenza</td>\n",
       "      <td>Yes</td>\n",
       "      <td>No</td>\n",
       "      <td>Yes</td>\n",
       "      <td>Yes</td>\n",
       "      <td>19</td>\n",
       "      <td>Female</td>\n",
       "      <td>Low</td>\n",
       "      <td>Normal</td>\n",
       "      <td>Positive</td>\n",
       "    </tr>\n",
       "    <tr>\n",
       "      <th>1</th>\n",
       "      <td>Common Cold</td>\n",
       "      <td>No</td>\n",
       "      <td>Yes</td>\n",
       "      <td>Yes</td>\n",
       "      <td>No</td>\n",
       "      <td>25</td>\n",
       "      <td>Female</td>\n",
       "      <td>Normal</td>\n",
       "      <td>Normal</td>\n",
       "      <td>Negative</td>\n",
       "    </tr>\n",
       "    <tr>\n",
       "      <th>2</th>\n",
       "      <td>Eczema</td>\n",
       "      <td>No</td>\n",
       "      <td>Yes</td>\n",
       "      <td>Yes</td>\n",
       "      <td>No</td>\n",
       "      <td>25</td>\n",
       "      <td>Female</td>\n",
       "      <td>Normal</td>\n",
       "      <td>Normal</td>\n",
       "      <td>Negative</td>\n",
       "    </tr>\n",
       "    <tr>\n",
       "      <th>3</th>\n",
       "      <td>Asthma</td>\n",
       "      <td>Yes</td>\n",
       "      <td>Yes</td>\n",
       "      <td>No</td>\n",
       "      <td>Yes</td>\n",
       "      <td>25</td>\n",
       "      <td>Male</td>\n",
       "      <td>Normal</td>\n",
       "      <td>Normal</td>\n",
       "      <td>Positive</td>\n",
       "    </tr>\n",
       "    <tr>\n",
       "      <th>4</th>\n",
       "      <td>Asthma</td>\n",
       "      <td>Yes</td>\n",
       "      <td>Yes</td>\n",
       "      <td>No</td>\n",
       "      <td>Yes</td>\n",
       "      <td>25</td>\n",
       "      <td>Male</td>\n",
       "      <td>Normal</td>\n",
       "      <td>Normal</td>\n",
       "      <td>Positive</td>\n",
       "    </tr>\n",
       "    <tr>\n",
       "      <th>5</th>\n",
       "      <td>Eczema</td>\n",
       "      <td>Yes</td>\n",
       "      <td>No</td>\n",
       "      <td>No</td>\n",
       "      <td>No</td>\n",
       "      <td>25</td>\n",
       "      <td>Female</td>\n",
       "      <td>Normal</td>\n",
       "      <td>Normal</td>\n",
       "      <td>Positive</td>\n",
       "    </tr>\n",
       "    <tr>\n",
       "      <th>6</th>\n",
       "      <td>Influenza</td>\n",
       "      <td>Yes</td>\n",
       "      <td>Yes</td>\n",
       "      <td>Yes</td>\n",
       "      <td>Yes</td>\n",
       "      <td>25</td>\n",
       "      <td>Female</td>\n",
       "      <td>Normal</td>\n",
       "      <td>Normal</td>\n",
       "      <td>Positive</td>\n",
       "    </tr>\n",
       "    <tr>\n",
       "      <th>7</th>\n",
       "      <td>Influenza</td>\n",
       "      <td>Yes</td>\n",
       "      <td>Yes</td>\n",
       "      <td>Yes</td>\n",
       "      <td>Yes</td>\n",
       "      <td>25</td>\n",
       "      <td>Female</td>\n",
       "      <td>Normal</td>\n",
       "      <td>Normal</td>\n",
       "      <td>Positive</td>\n",
       "    </tr>\n",
       "    <tr>\n",
       "      <th>8</th>\n",
       "      <td>Hyperthyroidism</td>\n",
       "      <td>No</td>\n",
       "      <td>Yes</td>\n",
       "      <td>No</td>\n",
       "      <td>No</td>\n",
       "      <td>28</td>\n",
       "      <td>Female</td>\n",
       "      <td>Normal</td>\n",
       "      <td>Normal</td>\n",
       "      <td>Negative</td>\n",
       "    </tr>\n",
       "    <tr>\n",
       "      <th>9</th>\n",
       "      <td>Hyperthyroidism</td>\n",
       "      <td>No</td>\n",
       "      <td>Yes</td>\n",
       "      <td>No</td>\n",
       "      <td>No</td>\n",
       "      <td>28</td>\n",
       "      <td>Female</td>\n",
       "      <td>Normal</td>\n",
       "      <td>Normal</td>\n",
       "      <td>Negative</td>\n",
       "    </tr>\n",
       "  </tbody>\n",
       "</table>\n",
       "</div>"
      ],
      "text/plain": [
       "           Disease Fever Cough Fatigue Difficulty Breathing  Age  Gender   \n",
       "0        Influenza   Yes    No     Yes                  Yes   19  Female  \\\n",
       "1      Common Cold    No   Yes     Yes                   No   25  Female   \n",
       "2           Eczema    No   Yes     Yes                   No   25  Female   \n",
       "3           Asthma   Yes   Yes      No                  Yes   25    Male   \n",
       "4           Asthma   Yes   Yes      No                  Yes   25    Male   \n",
       "5           Eczema   Yes    No      No                   No   25  Female   \n",
       "6        Influenza   Yes   Yes     Yes                  Yes   25  Female   \n",
       "7        Influenza   Yes   Yes     Yes                  Yes   25  Female   \n",
       "8  Hyperthyroidism    No   Yes      No                   No   28  Female   \n",
       "9  Hyperthyroidism    No   Yes      No                   No   28  Female   \n",
       "\n",
       "  Blood Pressure Cholesterol Level Outcome Variable  \n",
       "0            Low            Normal         Positive  \n",
       "1         Normal            Normal         Negative  \n",
       "2         Normal            Normal         Negative  \n",
       "3         Normal            Normal         Positive  \n",
       "4         Normal            Normal         Positive  \n",
       "5         Normal            Normal         Positive  \n",
       "6         Normal            Normal         Positive  \n",
       "7         Normal            Normal         Positive  \n",
       "8         Normal            Normal         Negative  \n",
       "9         Normal            Normal         Negative  "
      ]
     },
     "execution_count": 2,
     "metadata": {},
     "output_type": "execute_result"
    }
   ],
   "source": [
    "df=pd.read_csv(r'D:\\Data science\\Data sample\\Disease_symptom_and_patient_profile_dataset.csv')\n",
    "df.head(10)"
   ]
  },
  {
   "cell_type": "code",
   "execution_count": 3,
   "id": "8792077b-d3b4-4388-89e0-734d7be998a6",
   "metadata": {},
   "outputs": [
    {
     "data": {
      "text/plain": [
       "3      25\n",
       "4      25\n",
       "10     28\n",
       "34     30\n",
       "35     30\n",
       "36     30\n",
       "75     35\n",
       "76     35\n",
       "121    40\n",
       "122    40\n",
       "123    40\n",
       "124    40\n",
       "125    40\n",
       "126    40\n",
       "181    45\n",
       "182    45\n",
       "224    50\n",
       "286    60\n",
       "Name: Age, dtype: int64"
      ]
     },
     "execution_count": 3,
     "metadata": {},
     "output_type": "execute_result"
    }
   ],
   "source": [
    "new_d=df['Age'][(df['Disease']=='Asthma' ) & (df['Outcome Variable']=='Positive')]\n",
    "new_d"
   ]
  },
  {
   "cell_type": "code",
   "execution_count": 4,
   "id": "cbac076b-90d2-4ccd-96e5-14067256a12d",
   "metadata": {},
   "outputs": [],
   "source": [
    "# plt.figure(figsize=(20,15))\n",
    "# name=df['Disease'][(df['Outcome Variable']=='Positive')& (df['Disease']=='Asthma')]\n",
    "# data_df = pd.DataFrame({'index': name.index, 'values': new_d.values})\n",
    "# sns.catplot(x='values', y=np, data=data_df, kind='bar', palette='dark')\n",
    "# if (df['Disease']=='Asthma'):\n",
    "#     print('Positve Asthma patient whos age is greater than 30')\n",
    "# plt.title('Patient Age who have Asthma')\n",
    "# plt.ylabel('Patient index')\n",
    "# plt.xlabel('Age')\n",
    "# plt.show()"
   ]
  },
  {
   "cell_type": "markdown",
   "id": "d9c0ea79-d072-4274-8d7b-ca59fa984d06",
   "metadata": {},
   "source": [
    "    Age and Gender"
   ]
  },
  {
   "cell_type": "code",
   "execution_count": 5,
   "id": "db4854d0-e9a2-4933-a2c9-02b87f713d80",
   "metadata": {},
   "outputs": [
    {
     "data": {
      "text/plain": [
       "<Axes: xlabel='Age', ylabel='Gender'>"
      ]
     },
     "execution_count": 5,
     "metadata": {},
     "output_type": "execute_result"
    },
    {
     "data": {
      "image/png": "[encoded data removed]",
      "text/plain": [
       "<Figure size 640x480 with 1 Axes>"
      ]
     },
     "metadata": {},
     "output_type": "display_data"
    }
   ],
   "source": [
    "sns.barplot(x='Age',y='Gender',data=df,width=0.5)"
   ]
  },
  {
   "cell_type": "markdown",
   "id": "4bb1a7a7-8ac7-486b-b295-08d632872173",
   "metadata": {},
   "source": [
    "    Age Histogram Chart"
   ]
  },
  {
   "cell_type": "code",
   "execution_count": 6,
   "id": "99076987-6e94-48c8-b1a3-04342e197ff9",
   "metadata": {},
   "outputs": [
    {
     "data": {
      "image/png": "[encoded data removed]",
      "text/plain": [
       "<Figure size 500x500 with 1 Axes>"
      ]
     },
     "metadata": {},
     "output_type": "display_data"
    }
   ],
   "source": [
    "sns.displot(df['Age'], bins=10, kde=True,)\n",
    "plt.title('Age Histogram chart ')\n",
    "plt.show()"
   ]
  },
  {
   "cell_type": "markdown",
   "id": "759073b3-069e-45e8-8e1f-1349710f9d72",
   "metadata": {},
   "source": [
    "        Bar Plot of Common disease"
   ]
  },
  {
   "cell_type": "code",
   "execution_count": 7,
   "id": "e3a1aa60-1a85-4509-837d-d34130e0df4c",
   "metadata": {},
   "outputs": [],
   "source": [
    "comm=df['Disease'].value_counts()\n",
    "most_comm=comm[comm>8]"
   ]
  },
  {
   "cell_type": "code",
   "execution_count": 8,
   "id": "7a50e298-0a86-4c8f-adf2-8da2fa4fb428",
   "metadata": {},
   "outputs": [
    {
     "data": {
      "image/png": "[encoded data removed]",
      "text/plain": [
       "<Figure size 640x480 with 1 Axes>"
      ]
     },
     "metadata": {},
     "output_type": "display_data"
    }
   ],
   "source": [
    "sns.barplot(x=most_comm.index, y= most_comm.values)\n",
    "# sns.catplot(x=most_comm.index,y=most_comm.values, kind='bar',data=df)\n",
    "plt.title('Most Common disease')\n",
    "plt.xlabel('Disease')\n",
    "plt.ylabel('Count') \n",
    "plt.xticks(rotation=45)\n",
    "plt.show()"
   ]
  },
  {
   "cell_type": "markdown",
   "id": "b052cc8e-798c-4535-bee6-4cdf6761a5e0",
   "metadata": {},
   "source": [
    "    Fever Bar chart"
   ]
  },
  {
   "cell_type": "code",
   "execution_count": 9,
   "id": "9d3d8574-12df-47a0-9250-5199b50e6adf",
   "metadata": {},
   "outputs": [
    {
     "data": {
      "text/plain": [
       "Text(0.5, 0, 'Fever')"
      ]
     },
     "execution_count": 9,
     "metadata": {},
     "output_type": "execute_result"
    },
    {
     "data": {
      "image/png": "[encoded data removed]",
      "text/plain": [
       "<Figure size 640x480 with 1 Axes>"
      ]
     },
     "metadata": {},
     "output_type": "display_data"
    }
   ],
   "source": [
    "sns.barplot(x=df['Fever'].value_counts(),y=df['Fever'].value_counts(),data=df,label=['No','Yes'],width=0.4)\n",
    "plt.legend(loc='best')\n",
    "plt.xlabel('Fever')"
   ]
  },
  {
   "cell_type": "markdown",
   "id": "6088e5f0-4f4d-4221-b090-7c27e52b269e",
   "metadata": {},
   "source": [
    "    cough Bar chart"
   ]
  },
  {
   "cell_type": "code",
   "execution_count": 10,
   "id": "df33afe6-0c77-4b71-9611-bb638bbcf9b1",
   "metadata": {},
   "outputs": [
    {
     "data": {
      "text/plain": [
       "Text(0.5, 0, 'Cough')"
      ]
     },
     "execution_count": 10,
     "metadata": {},
     "output_type": "execute_result"
    },
    {
     "data": {
      "image/png": "[encoded data removed]",
      "text/plain": [
       "<Figure size 640x480 with 1 Axes>"
      ]
     },
     "metadata": {},
     "output_type": "display_data"
    }
   ],
   "source": [
    "sns.barplot(x=df['Cough'].value_counts(),y=df['Cough'].value_counts(),data=df,label=['No','Yes'],palette='YlGnBu',width=0.6)\n",
    "plt.legend(loc='best')\n",
    "plt.xlabel('Cough')"
   ]
  },
  {
   "cell_type": "markdown",
   "id": "36c5375a-d1b6-4530-8595-f39171d54767",
   "metadata": {},
   "source": [
    "    Gender Bar plot "
   ]
  },
  {
   "cell_type": "code",
   "execution_count": 11,
   "id": "c94e2cea-a145-4458-8f2b-806ea9962416",
   "metadata": {},
   "outputs": [
    {
     "data": {
      "text/plain": [
       "Text(0.5, 0, 'Gender')"
      ]
     },
     "execution_count": 11,
     "metadata": {},
     "output_type": "execute_result"
    },
    {
     "data": {
      "image/png": "[encoded data removed]",
      "text/plain": [
       "<Figure size 640x480 with 1 Axes>"
      ]
     },
     "metadata": {},
     "output_type": "display_data"
    }
   ],
   "source": [
    "sns.barplot(x=df['Gender'].value_counts(),y=df['Gender'].value_counts(),data=df,label=['Male','female'],width=0.5, palette='bright',)\n",
    "plt.legend(shadow=True,loc='upper center')\n",
    "plt.xlabel('Gender')"
   ]
  },
  {
   "cell_type": "markdown",
   "id": "d205f8b1-9f63-47b1-be9a-e9f55e26cb19",
   "metadata": {},
   "source": [
    "    Blood Pressure Boxplot"
   ]
  },
  {
   "cell_type": "code",
   "execution_count": 12,
   "id": "354d2a4a-8a58-4f4c-823d-e06b6ac5a299",
   "metadata": {},
   "outputs": [],
   "source": [
    "g=df['Blood Pressure'].value_counts()"
   ]
  },
  {
   "cell_type": "code",
   "execution_count": 13,
   "id": "d9f1ac34-65cb-4f66-811a-5d0627cce13e",
   "metadata": {},
   "outputs": [
    {
     "data": {
      "text/plain": [
       "Text(0, 0.5, 'Count')"
      ]
     },
     "execution_count": 13,
     "metadata": {},
     "output_type": "execute_result"
    },
    {
     "data": {
      "image/png": "[encoded data removed]",
      "text/plain": [
       "<Figure size 640x480 with 1 Axes>"
      ]
     },
     "metadata": {},
     "output_type": "display_data"
    }
   ],
   "source": [
    "sns.boxplot(x=g.index,y=g.values,data=df)\n",
    "# sns.pairplot(df.select_dtypes(['number']),hue='Age')\n",
    "plt.xlabel('Blood Pressure')\n",
    "plt.ylabel('Count')"
   ]
  },
  {
   "cell_type": "code",
   "execution_count": 14,
   "id": "0952ccb1-8178-4ba3-9b1d-3d80fa13530c",
   "metadata": {},
   "outputs": [
    {
     "data": {
      "text/plain": [
       "Outcome Variable\n",
       "Positive    186\n",
       "Negative    163\n",
       "Name: count, dtype: int64"
      ]
     },
     "execution_count": 14,
     "metadata": {},
     "output_type": "execute_result"
    }
   ],
   "source": [
    "df['Outcome Variable'].value_counts()"
   ]
  },
  {
   "cell_type": "code",
   "execution_count": 15,
   "id": "0194caa5-6cf6-4e28-9feb-71dc0512e16e",
   "metadata": {},
   "outputs": [
    {
     "data": {
      "text/plain": [
       "<matplotlib.legend.Legend at 0x21cd4a47730>"
      ]
     },
     "execution_count": 15,
     "metadata": {},
     "output_type": "execute_result"
    },
    {
     "data": {
      "image/png": "[encoded data removed]",
      "text/plain": [
       "<Figure size 640x480 with 1 Axes>"
      ]
     },
     "metadata": {},
     "output_type": "display_data"
    }
   ],
   "source": [
    "sns.barplot(x=df['Outcome Variable'].value_counts(),y=df['Outcome Variable'].value_counts(),data=df,label=['Positive','Negative'],palette='colorblind')\n",
    "plt.xlabel('Outcome variable')\n",
    "plt.legend(shadow=True)"
   ]
  },
  {
   "cell_type": "code",
   "execution_count": 16,
   "id": "8efd8b43-ffff-4cef-b740-802e9efa4d87",
   "metadata": {},
   "outputs": [
    {
     "data": {
      "text/plain": [
       "12"
      ]
     },
     "execution_count": 16,
     "metadata": {},
     "output_type": "execute_result"
    }
   ],
   "source": [
    "df['Disease'][(df['Disease']=='Asthma' )& (df.Gender=='Male')].count()"
   ]
  },
  {
   "cell_type": "code",
   "execution_count": 17,
   "id": "b7caa1f9-68af-44b1-bd63-c742033a8dd3",
   "metadata": {},
   "outputs": [
    {
     "data": {
      "image/png": "[encoded data removed]",
      "text/plain": [
       "<Figure size 640x480 with 1 Axes>"
      ]
     },
     "metadata": {},
     "output_type": "display_data"
    }
   ],
   "source": [
    "plt.pie(most_comm,labels=most_comm.index, autopct='%0.0f%%', explode=[0.2,0,0,0,0,0], shadow=True, startangle=65)\n",
    "plt.title('Most common Diseases')\n",
    "plt.axis('equal')\n",
    "plt.show()"
   ]
  },
  {
   "cell_type": "markdown",
   "id": "88ea55f3-cf61-49ae-baf9-c3dbc13cd56e",
   "metadata": {},
   "source": [
    "    Data Manipulation"
   ]
  },
  {
   "cell_type": "code",
   "execution_count": 18,
   "id": "7da74645-a9c3-44c0-9d92-8d162f6ae64c",
   "metadata": {},
   "outputs": [
    {
     "data": {
      "text/html": [
       "<div>\n",
       "<style scoped>\n",
       "    .dataframe tbody tr th:only-of-type {\n",
       "        vertical-align: middle;\n",
       "    }\n",
       "\n",
       "    .dataframe tbody tr th {\n",
       "        vertical-align: top;\n",
       "    }\n",
       "\n",
       "    .dataframe thead th {\n",
       "        text-align: right;\n",
       "    }\n",
       "</style>\n",
       "<table border=\"1\" class=\"dataframe\">\n",
       "  <thead>\n",
       "    <tr style=\"text-align: right;\">\n",
       "      <th></th>\n",
       "      <th>Age</th>\n",
       "      <th>Blood Pressure</th>\n",
       "    </tr>\n",
       "  </thead>\n",
       "  <tbody>\n",
       "    <tr>\n",
       "      <th>6</th>\n",
       "      <td>25</td>\n",
       "      <td>Normal</td>\n",
       "    </tr>\n",
       "    <tr>\n",
       "      <th>7</th>\n",
       "      <td>25</td>\n",
       "      <td>Normal</td>\n",
       "    </tr>\n",
       "    <tr>\n",
       "      <th>19</th>\n",
       "      <td>29</td>\n",
       "      <td>Normal</td>\n",
       "    </tr>\n",
       "    <tr>\n",
       "      <th>20</th>\n",
       "      <td>29</td>\n",
       "      <td>Normal</td>\n",
       "    </tr>\n",
       "    <tr>\n",
       "      <th>34</th>\n",
       "      <td>30</td>\n",
       "      <td>Normal</td>\n",
       "    </tr>\n",
       "    <tr>\n",
       "      <th>35</th>\n",
       "      <td>30</td>\n",
       "      <td>Normal</td>\n",
       "    </tr>\n",
       "    <tr>\n",
       "      <th>36</th>\n",
       "      <td>30</td>\n",
       "      <td>Normal</td>\n",
       "    </tr>\n",
       "    <tr>\n",
       "      <th>38</th>\n",
       "      <td>30</td>\n",
       "      <td>Low</td>\n",
       "    </tr>\n",
       "    <tr>\n",
       "      <th>46</th>\n",
       "      <td>30</td>\n",
       "      <td>Normal</td>\n",
       "    </tr>\n",
       "    <tr>\n",
       "      <th>48</th>\n",
       "      <td>30</td>\n",
       "      <td>High</td>\n",
       "    </tr>\n",
       "    <tr>\n",
       "      <th>57</th>\n",
       "      <td>35</td>\n",
       "      <td>Normal</td>\n",
       "    </tr>\n",
       "    <tr>\n",
       "      <th>68</th>\n",
       "      <td>35</td>\n",
       "      <td>Normal</td>\n",
       "    </tr>\n",
       "    <tr>\n",
       "      <th>69</th>\n",
       "      <td>35</td>\n",
       "      <td>Normal</td>\n",
       "    </tr>\n",
       "    <tr>\n",
       "      <th>122</th>\n",
       "      <td>40</td>\n",
       "      <td>Normal</td>\n",
       "    </tr>\n",
       "    <tr>\n",
       "      <th>123</th>\n",
       "      <td>40</td>\n",
       "      <td>Normal</td>\n",
       "    </tr>\n",
       "    <tr>\n",
       "      <th>137</th>\n",
       "      <td>40</td>\n",
       "      <td>Normal</td>\n",
       "    </tr>\n",
       "    <tr>\n",
       "      <th>224</th>\n",
       "      <td>50</td>\n",
       "      <td>Normal</td>\n",
       "    </tr>\n",
       "    <tr>\n",
       "      <th>230</th>\n",
       "      <td>50</td>\n",
       "      <td>High</td>\n",
       "    </tr>\n",
       "    <tr>\n",
       "      <th>286</th>\n",
       "      <td>60</td>\n",
       "      <td>High</td>\n",
       "    </tr>\n",
       "    <tr>\n",
       "      <th>295</th>\n",
       "      <td>60</td>\n",
       "      <td>High</td>\n",
       "    </tr>\n",
       "  </tbody>\n",
       "</table>\n",
       "</div>"
      ],
      "text/plain": [
       "     Age Blood Pressure\n",
       "6     25         Normal\n",
       "7     25         Normal\n",
       "19    29         Normal\n",
       "20    29         Normal\n",
       "34    30         Normal\n",
       "35    30         Normal\n",
       "36    30         Normal\n",
       "38    30            Low\n",
       "46    30         Normal\n",
       "48    30           High\n",
       "57    35         Normal\n",
       "68    35         Normal\n",
       "69    35         Normal\n",
       "122   40         Normal\n",
       "123   40         Normal\n",
       "137   40         Normal\n",
       "224   50         Normal\n",
       "230   50           High\n",
       "286   60           High\n",
       "295   60           High"
      ]
     },
     "execution_count": 18,
     "metadata": {},
     "output_type": "execute_result"
    }
   ],
   "source": [
    "new_df=df[['Age','Blood Pressure']][(df['Fever']=='Yes') & ( df['Cough']=='Yes') & (df['Difficulty Breathing']=='Yes')& (df['Gender']=='Female')]\n",
    "new_df\n",
    "# comm=new_set.intersection(new_set2) # list intersection method\n",
    "# comm=[x for x in new_set if x in new_set2] # list comprehension"
   ]
  },
  {
   "cell_type": "markdown",
   "id": "4dbb8235-74bb-41d2-89a2-61f79ee68cc4",
   "metadata": {},
   "source": [
    "    Average Age"
   ]
  },
  {
   "cell_type": "code",
   "execution_count": 19,
   "id": "ece6c4e0-44ed-4b34-a866-aa57f5791487",
   "metadata": {},
   "outputs": [
    {
     "data": {
      "text/plain": [
       "45.78977272727273"
      ]
     },
     "execution_count": 19,
     "metadata": {},
     "output_type": "execute_result"
    }
   ],
   "source": [
    "new_df=df['Age'][df['Gender']=='Female']\n",
    "new_df.mean()"
   ]
  },
  {
   "cell_type": "markdown",
   "id": "1aea6c28-8de0-496a-991e-b1f7a1762e08",
   "metadata": {},
   "source": [
    "    Total female and male patients"
   ]
  },
  {
   "cell_type": "code",
   "execution_count": 20,
   "id": "4c1176ed-3bb8-411c-86b3-5c31e437cedd",
   "metadata": {},
   "outputs": [
    {
     "name": "stdout",
     "output_type": "stream",
     "text": [
      "Total female patients are : Disease                 176\n",
      "Fever                   176\n",
      "Cough                   176\n",
      "Fatigue                 176\n",
      "Difficulty Breathing    176\n",
      "Age                     176\n",
      "Gender                  176\n",
      "Blood Pressure          176\n",
      "Cholesterol Level       176\n",
      "Outcome Variable        176\n",
      "dtype: int64 \n",
      "Total Male Patients are : Disease                 173\n",
      "Fever                   173\n",
      "Cough                   173\n",
      "Fatigue                 173\n",
      "Difficulty Breathing    173\n",
      "Age                     173\n",
      "Gender                  173\n",
      "Blood Pressure          173\n",
      "Cholesterol Level       173\n",
      "Outcome Variable        173\n",
      "dtype: int64\n"
     ]
    }
   ],
   "source": [
    "df_f=df[df['Gender']=='Female']\n",
    "df_m=df[df['Gender']=='Male']\n",
    "print('Total female patients are :',df_f.count(), '\\nTotal Male Patients are :',df_m.count())"
   ]
  },
  {
   "cell_type": "code",
   "execution_count": 21,
   "id": "0bdfb926-e586-4dcc-976b-efaac8e10bd5",
   "metadata": {},
   "outputs": [
    {
     "data": {
      "text/html": [
       "<div>\n",
       "<style scoped>\n",
       "    .dataframe tbody tr th:only-of-type {\n",
       "        vertical-align: middle;\n",
       "    }\n",
       "\n",
       "    .dataframe tbody tr th {\n",
       "        vertical-align: top;\n",
       "    }\n",
       "\n",
       "    .dataframe thead th {\n",
       "        text-align: right;\n",
       "    }\n",
       "</style>\n",
       "<table border=\"1\" class=\"dataframe\">\n",
       "  <thead>\n",
       "    <tr style=\"text-align: right;\">\n",
       "      <th></th>\n",
       "      <th>Disease</th>\n",
       "      <th>Cough</th>\n",
       "      <th>Fatigue</th>\n",
       "      <th>Difficulty Breathing</th>\n",
       "      <th>Age</th>\n",
       "      <th>Fever</th>\n",
       "    </tr>\n",
       "  </thead>\n",
       "  <tbody>\n",
       "    <tr>\n",
       "      <th>0</th>\n",
       "      <td>Influenza</td>\n",
       "      <td>No</td>\n",
       "      <td>Yes</td>\n",
       "      <td>Yes</td>\n",
       "      <td>19</td>\n",
       "      <td>Yes</td>\n",
       "    </tr>\n",
       "    <tr>\n",
       "      <th>1</th>\n",
       "      <td>Common Cold</td>\n",
       "      <td>Yes</td>\n",
       "      <td>Yes</td>\n",
       "      <td>No</td>\n",
       "      <td>25</td>\n",
       "      <td>No</td>\n",
       "    </tr>\n",
       "    <tr>\n",
       "      <th>2</th>\n",
       "      <td>Eczema</td>\n",
       "      <td>Yes</td>\n",
       "      <td>Yes</td>\n",
       "      <td>No</td>\n",
       "      <td>25</td>\n",
       "      <td>No</td>\n",
       "    </tr>\n",
       "    <tr>\n",
       "      <th>3</th>\n",
       "      <td>Asthma</td>\n",
       "      <td>Yes</td>\n",
       "      <td>No</td>\n",
       "      <td>Yes</td>\n",
       "      <td>25</td>\n",
       "      <td>Yes</td>\n",
       "    </tr>\n",
       "    <tr>\n",
       "      <th>4</th>\n",
       "      <td>Asthma</td>\n",
       "      <td>Yes</td>\n",
       "      <td>No</td>\n",
       "      <td>Yes</td>\n",
       "      <td>25</td>\n",
       "      <td>Yes</td>\n",
       "    </tr>\n",
       "    <tr>\n",
       "      <th>...</th>\n",
       "      <td>...</td>\n",
       "      <td>...</td>\n",
       "      <td>...</td>\n",
       "      <td>...</td>\n",
       "      <td>...</td>\n",
       "      <td>...</td>\n",
       "    </tr>\n",
       "    <tr>\n",
       "      <th>344</th>\n",
       "      <td>Stroke</td>\n",
       "      <td>No</td>\n",
       "      <td>Yes</td>\n",
       "      <td>No</td>\n",
       "      <td>80</td>\n",
       "      <td>Yes</td>\n",
       "    </tr>\n",
       "    <tr>\n",
       "      <th>345</th>\n",
       "      <td>Stroke</td>\n",
       "      <td>No</td>\n",
       "      <td>Yes</td>\n",
       "      <td>No</td>\n",
       "      <td>85</td>\n",
       "      <td>Yes</td>\n",
       "    </tr>\n",
       "    <tr>\n",
       "      <th>346</th>\n",
       "      <td>Stroke</td>\n",
       "      <td>No</td>\n",
       "      <td>Yes</td>\n",
       "      <td>No</td>\n",
       "      <td>85</td>\n",
       "      <td>Yes</td>\n",
       "    </tr>\n",
       "    <tr>\n",
       "      <th>347</th>\n",
       "      <td>Stroke</td>\n",
       "      <td>No</td>\n",
       "      <td>Yes</td>\n",
       "      <td>No</td>\n",
       "      <td>90</td>\n",
       "      <td>Yes</td>\n",
       "    </tr>\n",
       "    <tr>\n",
       "      <th>348</th>\n",
       "      <td>Stroke</td>\n",
       "      <td>No</td>\n",
       "      <td>Yes</td>\n",
       "      <td>No</td>\n",
       "      <td>90</td>\n",
       "      <td>Yes</td>\n",
       "    </tr>\n",
       "  </tbody>\n",
       "</table>\n",
       "<p>349 rows × 6 columns</p>\n",
       "</div>"
      ],
      "text/plain": [
       "         Disease Cough Fatigue Difficulty Breathing  Age Fever\n",
       "0      Influenza    No     Yes                  Yes   19   Yes\n",
       "1    Common Cold   Yes     Yes                   No   25    No\n",
       "2         Eczema   Yes     Yes                   No   25    No\n",
       "3         Asthma   Yes      No                  Yes   25   Yes\n",
       "4         Asthma   Yes      No                  Yes   25   Yes\n",
       "..           ...   ...     ...                  ...  ...   ...\n",
       "344       Stroke    No     Yes                   No   80   Yes\n",
       "345       Stroke    No     Yes                   No   85   Yes\n",
       "346       Stroke    No     Yes                   No   85   Yes\n",
       "347       Stroke    No     Yes                   No   90   Yes\n",
       "348       Stroke    No     Yes                   No   90   Yes\n",
       "\n",
       "[349 rows x 6 columns]"
      ]
     },
     "execution_count": 21,
     "metadata": {},
     "output_type": "execute_result"
    }
   ],
   "source": [
    "new_df=df.filter(items=['Disease','Fever ','Cough','Fatigue','Difficulty Breathing','Age','Fever'])\n",
    "new_df"
   ]
  },
  {
   "cell_type": "markdown",
   "id": "3105c965-6005-4f67-a67b-69815402690d",
   "metadata": {},
   "source": [
    "    Common Values in column"
   ]
  },
  {
   "cell_type": "code",
   "execution_count": 22,
   "id": "01c0b1e6-674a-4f42-a92d-5a4aa5424ff9",
   "metadata": {},
   "outputs": [
    {
     "name": "stdout",
     "output_type": "stream",
     "text": [
      "The most common disease is : 23\n"
     ]
    }
   ],
   "source": [
    "common_data=df['Disease'].tolist()\n",
    "common_val=set(common_data)\n",
    "# common_val\n",
    "\n",
    "val_count=df['Disease'].value_counts()\n",
    "common_val=val_count[val_count>5]\n",
    "#     common=df['Disease'].tolist()\n",
    "#     common_va=set(common)\n",
    "# common_va\n",
    "print('The most common disease is :',common_val[0]) "
   ]
  },
  {
   "cell_type": "code",
   "execution_count": 23,
   "id": "9167a81f-1e01-4901-ab8b-90f2ecb65236",
   "metadata": {
    "scrolled": true
   },
   "outputs": [
    {
     "name": "stdout",
     "output_type": "stream",
     "text": [
      "('Acne',)\n",
      "('Allergic Rhinitis',)\n",
      "(\"Alzheimer's Disease\",)\n",
      "('Anemia',)\n",
      "('Anxiety Disorders',)\n",
      "('Appendicitis',)\n",
      "('Asthma',)\n",
      "('Atherosclerosis',)\n",
      "('Autism Spectrum Disorder (ASD)',)\n",
      "('Bipolar Disorder',)\n",
      "('Bladder Cancer',)\n",
      "('Brain Tumor',)\n",
      "('Breast Cancer',)\n",
      "('Bronchitis',)\n",
      "('Cataracts',)\n",
      "('Cerebral Palsy',)\n",
      "('Chickenpox',)\n",
      "('Cholecystitis',)\n",
      "('Cholera',)\n",
      "('Chronic Kidney Disease',)\n",
      "('Chronic Obstructive Pulmonary Disease (COPD)',)\n",
      "('Chronic Obstructive Pulmonary...',)\n",
      "('Cirrhosis',)\n",
      "('Colorectal Cancer',)\n",
      "('Common Cold',)\n",
      "('Conjunctivitis (Pink Eye)',)\n",
      "('Coronary Artery Disease',)\n",
      "(\"Crohn's Disease\",)\n",
      "('Cystic Fibrosis',)\n",
      "('Dementia',)\n",
      "('Dengue Fever',)\n",
      "('Depression',)\n",
      "('Diabetes',)\n",
      "('Diverticulitis',)\n",
      "('Down Syndrome',)\n",
      "('Eating Disorders (Anorexia,...',)\n",
      "('Ebola Virus',)\n",
      "('Eczema',)\n",
      "('Endometriosis',)\n",
      "('Epilepsy',)\n",
      "('Esophageal Cancer',)\n",
      "('Fibromyalgia',)\n",
      "('Gastroenteritis',)\n",
      "('Glaucoma',)\n",
      "('Gout',)\n",
      "('HIV/AIDS',)\n",
      "('Hemophilia',)\n",
      "('Hemorrhoids',)\n",
      "('Hepatitis',)\n",
      "('Hepatitis B',)\n",
      "('Hyperglycemia',)\n",
      "('Hypertension',)\n",
      "('Hypertensive Heart Disease',)\n",
      "('Hyperthyroidism',)\n",
      "('Hypoglycemia',)\n",
      "('Hypothyroidism',)\n",
      "('Influenza',)\n",
      "('Kidney Cancer',)\n",
      "('Kidney Disease',)\n",
      "('Klinefelter Syndrome',)\n",
      "('Liver Cancer',)\n",
      "('Liver Disease',)\n",
      "('Lung Cancer',)\n",
      "('Lyme Disease',)\n",
      "('Lymphoma',)\n",
      "('Malaria',)\n",
      "('Marfan Syndrome',)\n",
      "('Measles',)\n",
      "('Melanoma',)\n",
      "('Migraine',)\n",
      "('Multiple Sclerosis',)\n",
      "('Mumps',)\n",
      "('Muscular Dystrophy',)\n",
      "('Myocardial Infarction (Heart...',)\n",
      "('Obsessive-Compulsive Disorde...',)\n",
      "('Osteoarthritis',)\n",
      "('Osteomyelitis',)\n",
      "('Osteoporosis',)\n",
      "('Otitis Media (Ear Infection)',)\n",
      "('Ovarian Cancer',)\n",
      "('Pancreatic Cancer',)\n",
      "('Pancreatitis',)\n",
      "(\"Parkinson's Disease\",)\n",
      "('Pneumocystis Pneumonia (PCP)',)\n",
      "('Pneumonia',)\n",
      "('Pneumothorax',)\n",
      "('Polio',)\n",
      "('Polycystic Ovary Syndrome (PCOS)',)\n",
      "('Prader-Willi Syndrome',)\n",
      "('Prostate Cancer',)\n",
      "('Psoriasis',)\n",
      "('Rabies',)\n",
      "('Rheumatoid Arthritis',)\n",
      "('Rubella',)\n",
      "('Schizophrenia',)\n",
      "('Scoliosis',)\n",
      "('Sepsis',)\n",
      "('Sickle Cell Anemia',)\n",
      "('Sinusitis',)\n",
      "('Sleep Apnea',)\n",
      "('Spina Bifida',)\n",
      "('Stroke',)\n",
      "('Systemic Lupus Erythematosus...',)\n",
      "('Testicular Cancer',)\n",
      "('Tetanus',)\n",
      "('Thyroid Cancer',)\n",
      "('Tonsillitis',)\n",
      "('Tourette Syndrome',)\n",
      "('Tuberculosis',)\n",
      "('Turner Syndrome',)\n",
      "('Typhoid Fever',)\n",
      "('Ulcerative Colitis',)\n",
      "('Urinary Tract Infection',)\n",
      "('Urinary Tract Infection (UTI)',)\n",
      "('Williams Syndrome',)\n",
      "('Zika Virus',)\n"
     ]
    }
   ],
   "source": [
    "g=df.groupby(['Disease'])\n",
    "for Disease ,df in g:\n",
    "    print(Disease)\n",
    "    # print(df)\n",
    "# age_by_outcome = df.groupby('Outcome Variable')['Age'].mean()"
   ]
  },
  {
   "cell_type": "code",
   "execution_count": 24,
   "id": "0b793ad8-b3a1-40f0-9135-f95b84158bc6",
   "metadata": {},
   "outputs": [
    {
     "data": {
      "text/plain": [
       "Series([], Name: count, dtype: int64)"
      ]
     },
     "execution_count": 24,
     "metadata": {},
     "output_type": "execute_result"
    }
   ],
   "source": [
    "colestrol_avg=df.loc[(df['Fever']=='Yes') & (df['Cholesterol Level']=='High')]\n",
    "colestrol_avg.value_counts()"
   ]
  },
  {
   "cell_type": "code",
   "execution_count": 25,
   "id": "b9e28552-4956-4849-90a1-703304fca614",
   "metadata": {},
   "outputs": [
    {
     "data": {
      "text/html": [
       "<div>\n",
       "<style scoped>\n",
       "    .dataframe tbody tr th:only-of-type {\n",
       "        vertical-align: middle;\n",
       "    }\n",
       "\n",
       "    .dataframe tbody tr th {\n",
       "        vertical-align: top;\n",
       "    }\n",
       "\n",
       "    .dataframe thead th {\n",
       "        text-align: right;\n",
       "    }\n",
       "</style>\n",
       "<table border=\"1\" class=\"dataframe\">\n",
       "  <thead>\n",
       "    <tr style=\"text-align: right;\">\n",
       "      <th></th>\n",
       "      <th>Disease</th>\n",
       "      <th>Fever</th>\n",
       "      <th>Cough</th>\n",
       "      <th>Fatigue</th>\n",
       "      <th>Difficulty Breathing</th>\n",
       "      <th>Age</th>\n",
       "      <th>Gender</th>\n",
       "      <th>Blood Pressure</th>\n",
       "      <th>Cholesterol Level</th>\n",
       "      <th>Outcome Variable</th>\n",
       "    </tr>\n",
       "  </thead>\n",
       "  <tbody>\n",
       "    <tr>\n",
       "      <th>177</th>\n",
       "      <td>Zika Virus</td>\n",
       "      <td>No</td>\n",
       "      <td>Yes</td>\n",
       "      <td>Yes</td>\n",
       "      <td>No</td>\n",
       "      <td>45</td>\n",
       "      <td>Female</td>\n",
       "      <td>High</td>\n",
       "      <td>High</td>\n",
       "      <td>Negative</td>\n",
       "    </tr>\n",
       "    <tr>\n",
       "      <th>178</th>\n",
       "      <td>Zika Virus</td>\n",
       "      <td>No</td>\n",
       "      <td>Yes</td>\n",
       "      <td>Yes</td>\n",
       "      <td>No</td>\n",
       "      <td>45</td>\n",
       "      <td>Female</td>\n",
       "      <td>High</td>\n",
       "      <td>High</td>\n",
       "      <td>Negative</td>\n",
       "    </tr>\n",
       "  </tbody>\n",
       "</table>\n",
       "</div>"
      ],
      "text/plain": [
       "        Disease Fever Cough Fatigue Difficulty Breathing  Age  Gender   \n",
       "177  Zika Virus    No   Yes     Yes                   No   45  Female  \\\n",
       "178  Zika Virus    No   Yes     Yes                   No   45  Female   \n",
       "\n",
       "    Blood Pressure Cholesterol Level Outcome Variable  \n",
       "177           High              High         Negative  \n",
       "178           High              High         Negative  "
      ]
     },
     "execution_count": 25,
     "metadata": {},
     "output_type": "execute_result"
    }
   ],
   "source": [
    "df.get('Asthma')\n",
    "df"
   ]
  },
  {
   "cell_type": "code",
   "execution_count": 26,
   "id": "8e373003-d77e-4f0e-8535-38f9786fa2dc",
   "metadata": {},
   "outputs": [
    {
     "data": {
      "text/html": [
       "<div>\n",
       "<style scoped>\n",
       "    .dataframe tbody tr th:only-of-type {\n",
       "        vertical-align: middle;\n",
       "    }\n",
       "\n",
       "    .dataframe tbody tr th {\n",
       "        vertical-align: top;\n",
       "    }\n",
       "\n",
       "    .dataframe thead th {\n",
       "        text-align: right;\n",
       "    }\n",
       "</style>\n",
       "<table border=\"1\" class=\"dataframe\">\n",
       "  <thead>\n",
       "    <tr style=\"text-align: right;\">\n",
       "      <th></th>\n",
       "      <th>Symptom</th>\n",
       "      <th>weight</th>\n",
       "    </tr>\n",
       "  </thead>\n",
       "  <tbody>\n",
       "    <tr>\n",
       "      <th>0</th>\n",
       "      <td>itching</td>\n",
       "      <td>1</td>\n",
       "    </tr>\n",
       "    <tr>\n",
       "      <th>1</th>\n",
       "      <td>skin_rash</td>\n",
       "      <td>3</td>\n",
       "    </tr>\n",
       "    <tr>\n",
       "      <th>2</th>\n",
       "      <td>nodal_skin_eruptions</td>\n",
       "      <td>4</td>\n",
       "    </tr>\n",
       "    <tr>\n",
       "      <th>3</th>\n",
       "      <td>continuous_sneezing</td>\n",
       "      <td>4</td>\n",
       "    </tr>\n",
       "    <tr>\n",
       "      <th>4</th>\n",
       "      <td>shivering</td>\n",
       "      <td>5</td>\n",
       "    </tr>\n",
       "    <tr>\n",
       "      <th>...</th>\n",
       "      <td>...</td>\n",
       "      <td>...</td>\n",
       "    </tr>\n",
       "    <tr>\n",
       "      <th>128</th>\n",
       "      <td>inflammatory_nails</td>\n",
       "      <td>2</td>\n",
       "    </tr>\n",
       "    <tr>\n",
       "      <th>129</th>\n",
       "      <td>blister</td>\n",
       "      <td>4</td>\n",
       "    </tr>\n",
       "    <tr>\n",
       "      <th>130</th>\n",
       "      <td>red_sore_around_nose</td>\n",
       "      <td>2</td>\n",
       "    </tr>\n",
       "    <tr>\n",
       "      <th>131</th>\n",
       "      <td>yellow_crust_ooze</td>\n",
       "      <td>3</td>\n",
       "    </tr>\n",
       "    <tr>\n",
       "      <th>132</th>\n",
       "      <td>prognosis</td>\n",
       "      <td>5</td>\n",
       "    </tr>\n",
       "  </tbody>\n",
       "</table>\n",
       "<p>133 rows × 2 columns</p>\n",
       "</div>"
      ],
      "text/plain": [
       "                  Symptom  weight\n",
       "0                 itching       1\n",
       "1               skin_rash       3\n",
       "2    nodal_skin_eruptions       4\n",
       "3     continuous_sneezing       4\n",
       "4               shivering       5\n",
       "..                    ...     ...\n",
       "128    inflammatory_nails       2\n",
       "129               blister       4\n",
       "130  red_sore_around_nose       2\n",
       "131     yellow_crust_ooze       3\n",
       "132             prognosis       5\n",
       "\n",
       "[133 rows x 2 columns]"
      ]
     },
     "execution_count": 26,
     "metadata": {},
     "output_type": "execute_result"
    }
   ],
   "source": [
    "df=pd.read_csv('D:\\Data science\\Data sample\\Disease symptoms\\Symptom-severity.csv')\n",
    "df"
   ]
  },
  {
   "cell_type": "code",
   "execution_count": 27,
   "id": "8d0e5932-59c1-4ccd-acf2-0db97672e9d3",
   "metadata": {},
   "outputs": [],
   "source": [
    "import seaborn as sns"
   ]
  },
  {
   "cell_type": "code",
   "execution_count": 28,
   "id": "48afa987-a536-4be6-8a50-e939e6780247",
   "metadata": {},
   "outputs": [],
   "source": [
    "rang=df.head(20)"
   ]
  },
  {
   "cell_type": "code",
   "execution_count": 29,
   "id": "019740af-49d9-4274-b504-be4c57e90031",
   "metadata": {},
   "outputs": [
    {
     "data": {
      "text/plain": [
       "<Axes: xlabel='weight', ylabel='Symptom'>"
      ]
     },
     "execution_count": 29,
     "metadata": {},
     "output_type": "execute_result"
    },
    {
     "data": {
      "image/png": "[encoded data removed]",
      "text/plain": [
       "<Figure size 640x480 with 1 Axes>"
      ]
     },
     "metadata": {},
     "output_type": "display_data"
    }
   ],
   "source": [
    "sns.scatterplot(x='weight',y='Symptom',data=rang)"
   ]
  },
  {
   "cell_type": "code",
   "execution_count": 30,
   "id": "e48e7c51-ddef-4ff7-b08e-4cc55d5ee56c",
   "metadata": {},
   "outputs": [
    {
     "data": {
      "text/html": [
       "<div>\n",
       "<style scoped>\n",
       "    .dataframe tbody tr th:only-of-type {\n",
       "        vertical-align: middle;\n",
       "    }\n",
       "\n",
       "    .dataframe tbody tr th {\n",
       "        vertical-align: top;\n",
       "    }\n",
       "\n",
       "    .dataframe thead th {\n",
       "        text-align: right;\n",
       "    }\n",
       "</style>\n",
       "<table border=\"1\" class=\"dataframe\">\n",
       "  <thead>\n",
       "    <tr style=\"text-align: right;\">\n",
       "      <th></th>\n",
       "      <th>abdominal_pain</th>\n",
       "      <th>abnormal_menstruation</th>\n",
       "      <th>acidity</th>\n",
       "      <th>acute_liver_failure</th>\n",
       "      <th>altered_sensorium</th>\n",
       "      <th>anxiety</th>\n",
       "      <th>back_pain</th>\n",
       "      <th>belly_pain</th>\n",
       "      <th>blackheads</th>\n",
       "      <th>bladder_discomfort</th>\n",
       "      <th>...</th>\n",
       "      <th>vomiting</th>\n",
       "      <th>watering_from_eyes</th>\n",
       "      <th>weakness_in_limbs</th>\n",
       "      <th>weakness_of_one_body_side</th>\n",
       "      <th>weight_gain</th>\n",
       "      <th>weight_loss</th>\n",
       "      <th>yellow_crust_ooze</th>\n",
       "      <th>yellow_urine</th>\n",
       "      <th>yellowing_of_eyes</th>\n",
       "      <th>yellowish_skin</th>\n",
       "    </tr>\n",
       "  </thead>\n",
       "  <tbody>\n",
       "    <tr>\n",
       "      <th>0</th>\n",
       "      <td>0</td>\n",
       "      <td>0</td>\n",
       "      <td>0</td>\n",
       "      <td>0</td>\n",
       "      <td>0</td>\n",
       "      <td>0</td>\n",
       "      <td>0</td>\n",
       "      <td>0</td>\n",
       "      <td>0</td>\n",
       "      <td>0</td>\n",
       "      <td>...</td>\n",
       "      <td>0</td>\n",
       "      <td>0</td>\n",
       "      <td>0</td>\n",
       "      <td>0</td>\n",
       "      <td>0</td>\n",
       "      <td>0</td>\n",
       "      <td>0</td>\n",
       "      <td>0</td>\n",
       "      <td>0</td>\n",
       "      <td>0</td>\n",
       "    </tr>\n",
       "    <tr>\n",
       "      <th>1</th>\n",
       "      <td>0</td>\n",
       "      <td>0</td>\n",
       "      <td>0</td>\n",
       "      <td>0</td>\n",
       "      <td>0</td>\n",
       "      <td>0</td>\n",
       "      <td>0</td>\n",
       "      <td>0</td>\n",
       "      <td>0</td>\n",
       "      <td>0</td>\n",
       "      <td>...</td>\n",
       "      <td>0</td>\n",
       "      <td>0</td>\n",
       "      <td>0</td>\n",
       "      <td>0</td>\n",
       "      <td>0</td>\n",
       "      <td>0</td>\n",
       "      <td>0</td>\n",
       "      <td>0</td>\n",
       "      <td>0</td>\n",
       "      <td>0</td>\n",
       "    </tr>\n",
       "    <tr>\n",
       "      <th>2</th>\n",
       "      <td>0</td>\n",
       "      <td>0</td>\n",
       "      <td>0</td>\n",
       "      <td>0</td>\n",
       "      <td>0</td>\n",
       "      <td>0</td>\n",
       "      <td>0</td>\n",
       "      <td>0</td>\n",
       "      <td>0</td>\n",
       "      <td>0</td>\n",
       "      <td>...</td>\n",
       "      <td>0</td>\n",
       "      <td>0</td>\n",
       "      <td>0</td>\n",
       "      <td>0</td>\n",
       "      <td>0</td>\n",
       "      <td>0</td>\n",
       "      <td>0</td>\n",
       "      <td>0</td>\n",
       "      <td>0</td>\n",
       "      <td>0</td>\n",
       "    </tr>\n",
       "    <tr>\n",
       "      <th>3</th>\n",
       "      <td>0</td>\n",
       "      <td>0</td>\n",
       "      <td>0</td>\n",
       "      <td>0</td>\n",
       "      <td>0</td>\n",
       "      <td>0</td>\n",
       "      <td>0</td>\n",
       "      <td>0</td>\n",
       "      <td>0</td>\n",
       "      <td>0</td>\n",
       "      <td>...</td>\n",
       "      <td>0</td>\n",
       "      <td>0</td>\n",
       "      <td>0</td>\n",
       "      <td>0</td>\n",
       "      <td>0</td>\n",
       "      <td>0</td>\n",
       "      <td>0</td>\n",
       "      <td>0</td>\n",
       "      <td>0</td>\n",
       "      <td>0</td>\n",
       "    </tr>\n",
       "    <tr>\n",
       "      <th>4</th>\n",
       "      <td>0</td>\n",
       "      <td>0</td>\n",
       "      <td>0</td>\n",
       "      <td>0</td>\n",
       "      <td>0</td>\n",
       "      <td>0</td>\n",
       "      <td>0</td>\n",
       "      <td>0</td>\n",
       "      <td>0</td>\n",
       "      <td>0</td>\n",
       "      <td>...</td>\n",
       "      <td>0</td>\n",
       "      <td>0</td>\n",
       "      <td>0</td>\n",
       "      <td>0</td>\n",
       "      <td>0</td>\n",
       "      <td>0</td>\n",
       "      <td>0</td>\n",
       "      <td>0</td>\n",
       "      <td>0</td>\n",
       "      <td>0</td>\n",
       "    </tr>\n",
       "    <tr>\n",
       "      <th>...</th>\n",
       "      <td>...</td>\n",
       "      <td>...</td>\n",
       "      <td>...</td>\n",
       "      <td>...</td>\n",
       "      <td>...</td>\n",
       "      <td>...</td>\n",
       "      <td>...</td>\n",
       "      <td>...</td>\n",
       "      <td>...</td>\n",
       "      <td>...</td>\n",
       "      <td>...</td>\n",
       "      <td>...</td>\n",
       "      <td>...</td>\n",
       "      <td>...</td>\n",
       "      <td>...</td>\n",
       "      <td>...</td>\n",
       "      <td>...</td>\n",
       "      <td>...</td>\n",
       "      <td>...</td>\n",
       "      <td>...</td>\n",
       "      <td>...</td>\n",
       "    </tr>\n",
       "    <tr>\n",
       "      <th>128</th>\n",
       "      <td>0</td>\n",
       "      <td>0</td>\n",
       "      <td>0</td>\n",
       "      <td>0</td>\n",
       "      <td>0</td>\n",
       "      <td>0</td>\n",
       "      <td>0</td>\n",
       "      <td>0</td>\n",
       "      <td>0</td>\n",
       "      <td>0</td>\n",
       "      <td>...</td>\n",
       "      <td>0</td>\n",
       "      <td>0</td>\n",
       "      <td>0</td>\n",
       "      <td>0</td>\n",
       "      <td>0</td>\n",
       "      <td>0</td>\n",
       "      <td>0</td>\n",
       "      <td>0</td>\n",
       "      <td>0</td>\n",
       "      <td>0</td>\n",
       "    </tr>\n",
       "    <tr>\n",
       "      <th>129</th>\n",
       "      <td>0</td>\n",
       "      <td>0</td>\n",
       "      <td>0</td>\n",
       "      <td>0</td>\n",
       "      <td>0</td>\n",
       "      <td>0</td>\n",
       "      <td>0</td>\n",
       "      <td>0</td>\n",
       "      <td>0</td>\n",
       "      <td>0</td>\n",
       "      <td>...</td>\n",
       "      <td>0</td>\n",
       "      <td>0</td>\n",
       "      <td>0</td>\n",
       "      <td>0</td>\n",
       "      <td>0</td>\n",
       "      <td>0</td>\n",
       "      <td>0</td>\n",
       "      <td>0</td>\n",
       "      <td>0</td>\n",
       "      <td>0</td>\n",
       "    </tr>\n",
       "    <tr>\n",
       "      <th>130</th>\n",
       "      <td>0</td>\n",
       "      <td>0</td>\n",
       "      <td>0</td>\n",
       "      <td>0</td>\n",
       "      <td>0</td>\n",
       "      <td>0</td>\n",
       "      <td>0</td>\n",
       "      <td>0</td>\n",
       "      <td>0</td>\n",
       "      <td>0</td>\n",
       "      <td>...</td>\n",
       "      <td>0</td>\n",
       "      <td>0</td>\n",
       "      <td>0</td>\n",
       "      <td>0</td>\n",
       "      <td>0</td>\n",
       "      <td>0</td>\n",
       "      <td>0</td>\n",
       "      <td>0</td>\n",
       "      <td>0</td>\n",
       "      <td>0</td>\n",
       "    </tr>\n",
       "    <tr>\n",
       "      <th>131</th>\n",
       "      <td>0</td>\n",
       "      <td>0</td>\n",
       "      <td>0</td>\n",
       "      <td>0</td>\n",
       "      <td>0</td>\n",
       "      <td>0</td>\n",
       "      <td>0</td>\n",
       "      <td>0</td>\n",
       "      <td>0</td>\n",
       "      <td>0</td>\n",
       "      <td>...</td>\n",
       "      <td>0</td>\n",
       "      <td>0</td>\n",
       "      <td>0</td>\n",
       "      <td>0</td>\n",
       "      <td>0</td>\n",
       "      <td>0</td>\n",
       "      <td>1</td>\n",
       "      <td>0</td>\n",
       "      <td>0</td>\n",
       "      <td>0</td>\n",
       "    </tr>\n",
       "    <tr>\n",
       "      <th>132</th>\n",
       "      <td>0</td>\n",
       "      <td>0</td>\n",
       "      <td>0</td>\n",
       "      <td>0</td>\n",
       "      <td>0</td>\n",
       "      <td>0</td>\n",
       "      <td>0</td>\n",
       "      <td>0</td>\n",
       "      <td>0</td>\n",
       "      <td>0</td>\n",
       "      <td>...</td>\n",
       "      <td>0</td>\n",
       "      <td>0</td>\n",
       "      <td>0</td>\n",
       "      <td>0</td>\n",
       "      <td>0</td>\n",
       "      <td>0</td>\n",
       "      <td>0</td>\n",
       "      <td>0</td>\n",
       "      <td>0</td>\n",
       "      <td>0</td>\n",
       "    </tr>\n",
       "  </tbody>\n",
       "</table>\n",
       "<p>133 rows × 132 columns</p>\n",
       "</div>"
      ],
      "text/plain": [
       "     abdominal_pain  abnormal_menstruation  acidity  acute_liver_failure   \n",
       "0                 0                      0        0                    0  \\\n",
       "1                 0                      0        0                    0   \n",
       "2                 0                      0        0                    0   \n",
       "3                 0                      0        0                    0   \n",
       "4                 0                      0        0                    0   \n",
       "..              ...                    ...      ...                  ...   \n",
       "128               0                      0        0                    0   \n",
       "129               0                      0        0                    0   \n",
       "130               0                      0        0                    0   \n",
       "131               0                      0        0                    0   \n",
       "132               0                      0        0                    0   \n",
       "\n",
       "     altered_sensorium  anxiety  back_pain  belly_pain  blackheads   \n",
       "0                    0        0          0           0           0  \\\n",
       "1                    0        0          0           0           0   \n",
       "2                    0        0          0           0           0   \n",
       "3                    0        0          0           0           0   \n",
       "4                    0        0          0           0           0   \n",
       "..                 ...      ...        ...         ...         ...   \n",
       "128                  0        0          0           0           0   \n",
       "129                  0        0          0           0           0   \n",
       "130                  0        0          0           0           0   \n",
       "131                  0        0          0           0           0   \n",
       "132                  0        0          0           0           0   \n",
       "\n",
       "     bladder_discomfort  ...  vomiting  watering_from_eyes  weakness_in_limbs   \n",
       "0                     0  ...         0                   0                  0  \\\n",
       "1                     0  ...         0                   0                  0   \n",
       "2                     0  ...         0                   0                  0   \n",
       "3                     0  ...         0                   0                  0   \n",
       "4                     0  ...         0                   0                  0   \n",
       "..                  ...  ...       ...                 ...                ...   \n",
       "128                   0  ...         0                   0                  0   \n",
       "129                   0  ...         0                   0                  0   \n",
       "130                   0  ...         0                   0                  0   \n",
       "131                   0  ...         0                   0                  0   \n",
       "132                   0  ...         0                   0                  0   \n",
       "\n",
       "     weakness_of_one_body_side  weight_gain  weight_loss  yellow_crust_ooze   \n",
       "0                            0            0            0                  0  \\\n",
       "1                            0            0            0                  0   \n",
       "2                            0            0            0                  0   \n",
       "3                            0            0            0                  0   \n",
       "4                            0            0            0                  0   \n",
       "..                         ...          ...          ...                ...   \n",
       "128                          0            0            0                  0   \n",
       "129                          0            0            0                  0   \n",
       "130                          0            0            0                  0   \n",
       "131                          0            0            0                  1   \n",
       "132                          0            0            0                  0   \n",
       "\n",
       "     yellow_urine  yellowing_of_eyes  yellowish_skin  \n",
       "0               0                  0               0  \n",
       "1               0                  0               0  \n",
       "2               0                  0               0  \n",
       "3               0                  0               0  \n",
       "4               0                  0               0  \n",
       "..            ...                ...             ...  \n",
       "128             0                  0               0  \n",
       "129             0                  0               0  \n",
       "130             0                  0               0  \n",
       "131             0                  0               0  \n",
       "132             0                  0               0  \n",
       "\n",
       "[133 rows x 132 columns]"
      ]
     },
     "execution_count": 30,
     "metadata": {},
     "output_type": "execute_result"
    }
   ],
   "source": [
    "dumm=pd.get_dummies(df.Symptom)\n",
    "int_dum=(dumm==1).astype(int)\n",
    "int_dum"
   ]
  },
  {
   "cell_type": "code",
   "execution_count": 32,
   "id": "89bbda47-661f-4ab0-b7c7-139b6c362758",
   "metadata": {},
   "outputs": [],
   "source": [
    "def get_score(model,X_train,X_test,y_train,y_test):\n",
    "    model.fit(X_train,y_train)\n",
    "    return model.score(X_test,y_test)"
   ]
  }
 ],
 "metadata": {
  "kernelspec": {
   "display_name": "Python 3 (ipykernel)",
   "language": "python",
   "name": "python3"
  },
  "language_info": {
   "codemirror_mode": {
    "name": "ipython",
    "version": 3
   },
   "file_extension": ".py",
   "mimetype": "text/x-python",
   "name": "python",
   "nbconvert_exporter": "python",
   "pygments_lexer": "ipython3",
   "version": "3.10.0"
  }
 },
 "nbformat": 4,
 "nbformat_minor": 5
}
